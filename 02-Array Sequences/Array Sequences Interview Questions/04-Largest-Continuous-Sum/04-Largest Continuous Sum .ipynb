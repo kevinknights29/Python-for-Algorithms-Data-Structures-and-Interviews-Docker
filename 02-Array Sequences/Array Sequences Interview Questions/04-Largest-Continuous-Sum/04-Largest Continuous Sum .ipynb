{
 "cells": [
  {
   "cell_type": "markdown",
   "metadata": {},
   "source": [
    "# Largest Continuous Sum\n",
    "\n",
    "## Problem\n",
    "Given an array of integers (positive and negative) find the largest continuous sum. \n",
    "\n",
    "## Solution\n",
    "\n",
    "Fill out your solution below:"
   ]
  },
  {
   "cell_type": "code",
   "execution_count": 4,
   "metadata": {
    "execution": {
     "iopub.execute_input": "2023-08-06T22:18:13.821563Z",
     "iopub.status.busy": "2023-08-06T22:18:13.818339Z",
     "iopub.status.idle": "2023-08-06T22:18:13.849086Z",
     "shell.execute_reply": "2023-08-06T22:18:13.847549Z",
     "shell.execute_reply.started": "2023-08-06T22:18:13.821468Z"
    }
   },
   "outputs": [],
   "source": [
    "def large_cont_sum(arr):\n",
    "    if len(arr) == 2:\n",
    "        if sum(arr) > max(arr):\n",
    "            return sum(arr)\n",
    "        return max(arr)\n",
    "    max_cont_sum = 0\n",
    "    cont_sum = 0\n",
    "    for n in arr:\n",
    "        cont_sum += n\n",
    "        if cont_sum > max_cont_sum:\n",
    "            max_cont_sum = cont_sum\n",
    "    return max_cont_sum"
   ]
  },
  {
   "cell_type": "code",
   "execution_count": 5,
   "metadata": {
    "execution": {
     "iopub.execute_input": "2023-08-06T22:18:14.368947Z",
     "iopub.status.busy": "2023-08-06T22:18:14.368789Z",
     "iopub.status.idle": "2023-08-06T22:18:14.373927Z",
     "shell.execute_reply": "2023-08-06T22:18:14.373394Z",
     "shell.execute_reply.started": "2023-08-06T22:18:14.368938Z"
    }
   },
   "outputs": [
    {
     "data": {
      "text/plain": [
       "29"
      ]
     },
     "execution_count": 5,
     "metadata": {},
     "output_type": "execute_result"
    }
   ],
   "source": [
    "large_cont_sum([1, 2, -1, 3, 4, 10, 10, -10, -1])"
   ]
  },
  {
   "cell_type": "markdown",
   "metadata": {},
   "source": [
    "____\n",
    "Many times in an interview setting the question also requires you to report back the start and end points of the sum. Keep this in mind and see if you can solve that problem, we'll see it in the mock interview section of the course!"
   ]
  },
  {
   "cell_type": "markdown",
   "metadata": {},
   "source": [
    "# Test Your Solution"
   ]
  },
  {
   "cell_type": "code",
   "execution_count": 6,
   "metadata": {
    "execution": {
     "iopub.execute_input": "2023-08-06T22:18:15.836875Z",
     "iopub.status.busy": "2023-08-06T22:18:15.836240Z",
     "iopub.status.idle": "2023-08-06T22:18:15.848081Z",
     "shell.execute_reply": "2023-08-06T22:18:15.846492Z",
     "shell.execute_reply.started": "2023-08-06T22:18:15.836843Z"
    }
   },
   "outputs": [
    {
     "name": "stdout",
     "output_type": "stream",
     "text": [
      "ALL TEST CASES PASSED\n"
     ]
    }
   ],
   "source": [
    "from nose.tools import assert_equal\n",
    "\n",
    "\n",
    "class LargeContTest(object):\n",
    "    def test(self, sol):\n",
    "        assert_equal(sol([1, 2, -1, 3, 4, -1]), 9)\n",
    "        assert_equal(sol([1, 2, -1, 3, 4, 10, 10, -10, -1]), 29)\n",
    "        assert_equal(sol([-1, 1]), 1)\n",
    "        print(\"ALL TEST CASES PASSED\")\n",
    "\n",
    "\n",
    "# Run Test\n",
    "t = LargeContTest()\n",
    "t.test(large_cont_sum)"
   ]
  },
  {
   "cell_type": "markdown",
   "metadata": {},
   "source": [
    "## Good Job!"
   ]
  }
 ],
 "metadata": {
  "kernelspec": {
   "display_name": "Python 3 (ipykernel)",
   "language": "python",
   "name": "python3"
  },
  "language_info": {
   "codemirror_mode": {
    "name": "ipython",
    "version": 3
   },
   "file_extension": ".py",
   "mimetype": "text/x-python",
   "name": "python",
   "nbconvert_exporter": "python",
   "pygments_lexer": "ipython3",
   "version": "3.11.4"
  }
 },
 "nbformat": 4,
 "nbformat_minor": 4
}
