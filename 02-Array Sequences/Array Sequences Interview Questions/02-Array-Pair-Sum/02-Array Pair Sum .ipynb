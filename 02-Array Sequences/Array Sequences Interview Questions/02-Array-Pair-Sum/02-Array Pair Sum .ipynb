{
 "cells": [
  {
   "cell_type": "markdown",
   "metadata": {},
   "source": [
    "# Array Pair Sum\n",
    "\n",
    "## Problem\n",
    "\n",
    "Given an integer array, output all the ** *unique* ** pairs that sum up to a specific value **k**.\n",
    "\n",
    "So the input:\n",
    "    \n",
    "    pair_sum([1,3,2,2],4)\n",
    "\n",
    "would return **2** pairs:\n",
    "\n",
    "     (1,3)\n",
    "     (2,2)\n",
    "\n",
    "**NOTE: FOR TESTING PURPOSES CHANGE YOUR FUNCTION SO IT OUTPUTS THE NUMBER OF PAIRS**\n",
    "\n",
    "## Solution\n",
    "\n",
    "Fill out your solution below:"
   ]
  },
  {
   "cell_type": "code",
   "execution_count": 29,
   "metadata": {
    "execution": {
     "iopub.execute_input": "2023-08-04T01:39:36.939866Z",
     "iopub.status.busy": "2023-08-04T01:39:36.939045Z",
     "iopub.status.idle": "2023-08-04T01:39:36.946882Z",
     "shell.execute_reply": "2023-08-04T01:39:36.945940Z",
     "shell.execute_reply.started": "2023-08-04T01:39:36.939835Z"
    }
   },
   "outputs": [],
   "source": [
    "def pair_sum(arr, k):\n",
    "    results = []\n",
    "    for i in range(len(arr) - 1):\n",
    "        if (arr[i] == k) and (0 not in arr):\n",
    "            arr.append(arr[i])\n",
    "            continue\n",
    "        if (k - arr[i]) in arr[i + 1 :]:\n",
    "            if (arr[i], k - arr[i]) in results:\n",
    "                arr.append(arr[i])\n",
    "                continue\n",
    "            if (k - arr[i], arr[i]) in results:\n",
    "                arr.append(arr[i])\n",
    "                continue\n",
    "            results.append((arr[i], k - arr[i]))\n",
    "        arr.append(arr[i])\n",
    "    return len(results)"
   ]
  },
  {
   "cell_type": "code",
   "execution_count": 30,
   "metadata": {
    "execution": {
     "iopub.execute_input": "2023-08-04T01:39:37.552003Z",
     "iopub.status.busy": "2023-08-04T01:39:37.551199Z",
     "iopub.status.idle": "2023-08-04T01:39:37.558348Z",
     "shell.execute_reply": "2023-08-04T01:39:37.557335Z",
     "shell.execute_reply.started": "2023-08-04T01:39:37.551973Z"
    }
   },
   "outputs": [
    {
     "data": {
      "text/plain": [
       "2"
      ]
     },
     "execution_count": 30,
     "metadata": {},
     "output_type": "execute_result"
    }
   ],
   "source": [
    "pair_sum([1, 3, 2, 2], 4)"
   ]
  },
  {
   "cell_type": "markdown",
   "metadata": {},
   "source": [
    "# Test Your Solution"
   ]
  },
  {
   "cell_type": "code",
   "execution_count": 31,
   "metadata": {
    "execution": {
     "iopub.execute_input": "2023-08-04T01:39:39.961001Z",
     "iopub.status.busy": "2023-08-04T01:39:39.960179Z",
     "iopub.status.idle": "2023-08-04T01:39:39.967577Z",
     "shell.execute_reply": "2023-08-04T01:39:39.966786Z",
     "shell.execute_reply.started": "2023-08-04T01:39:39.960971Z"
    }
   },
   "outputs": [
    {
     "name": "stdout",
     "output_type": "stream",
     "text": [
      "ALL TEST CASES PASSED\n"
     ]
    }
   ],
   "source": [
    "\"\"\"\n",
    "RUN THIS CELL TO TEST YOUR SOLUTION\n",
    "\"\"\"\n",
    "from nose.tools import assert_equal\n",
    "\n",
    "\n",
    "class TestPair(object):\n",
    "    def test(self, sol):\n",
    "        assert_equal(sol([1, 9, 2, 8, 3, 7, 4, 6, 5, 5, 13, 14, 11, 13, -1], 10), 6)\n",
    "        assert_equal(sol([1, 2, 3, 1], 3), 1)\n",
    "        assert_equal(sol([1, 3, 2, 2], 4), 2)\n",
    "        print(\"ALL TEST CASES PASSED\")\n",
    "\n",
    "\n",
    "# Run tests\n",
    "t = TestPair()\n",
    "t.test(pair_sum)"
   ]
  },
  {
   "cell_type": "markdown",
   "metadata": {},
   "source": [
    "## Good Job!"
   ]
  }
 ],
 "metadata": {
  "kernelspec": {
   "display_name": "Python 3 (ipykernel)",
   "language": "python",
   "name": "python3"
  },
  "language_info": {
   "codemirror_mode": {
    "name": "ipython",
    "version": 3
   },
   "file_extension": ".py",
   "mimetype": "text/x-python",
   "name": "python",
   "nbconvert_exporter": "python",
   "pygments_lexer": "ipython3",
   "version": "3.11.4"
  }
 },
 "nbformat": 4,
 "nbformat_minor": 4
}
