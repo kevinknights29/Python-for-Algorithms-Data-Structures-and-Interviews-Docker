{
 "cells": [
  {
   "cell_type": "markdown",
   "metadata": {},
   "source": [
    "# Anagram Check\n",
    "\n",
    "## Problem\n",
    "\n",
    "Given two strings, check to see if they are anagrams. An anagram is when the two strings can be written using the exact same letters (so you can just rearrange the letters to get a different phrase or word). \n",
    "\n",
    "For example:\n",
    "\n",
    "    \"public relations\" is an anagram of \"crap built on lies.\"\n",
    "    \n",
    "    \"clint eastwood\" is an anagram of \"old west action\"\n",
    "    \n",
    "**Note: Ignore spaces and capitalization. So \"d go\" is an anagram of \"God\" and \"dog\" and \"o d g\".**\n",
    "\n",
    "## Solution\n",
    "\n",
    "Fill out your solution below:"
   ]
  },
  {
   "cell_type": "code",
   "execution_count": 14,
   "metadata": {
    "execution": {
     "iopub.execute_input": "2023-08-03T01:41:36.398840Z",
     "iopub.status.busy": "2023-08-03T01:41:36.397902Z",
     "iopub.status.idle": "2023-08-03T01:41:36.406227Z",
     "shell.execute_reply": "2023-08-03T01:41:36.405299Z",
     "shell.execute_reply.started": "2023-08-03T01:41:36.398809Z"
    }
   },
   "outputs": [],
   "source": [
    "def anagram(s1, s2):\n",
    "    fmt_s1 = list(s1.lower().replace(\" \", \"\"))\n",
    "    fmt_s2 = list(s2.lower().replace(\" \", \"\"))\n",
    "    # print(\"Formatting step:\", fmt_s1, fmt_s2) # Debugging Only\n",
    "\n",
    "    if len(fmt_s1) != len(fmt_s2):\n",
    "        return False\n",
    "    # print(\"Lenght Check passed\") # Debugging Only\n",
    "\n",
    "    indexes = len(fmt_s2) - 1\n",
    "    for i in range(indexes, -1, -1):\n",
    "        # print(\"Checking letter for letter...\") # Debugging Only\n",
    "        if fmt_s1[i] not in fmt_s2:\n",
    "            return False\n",
    "        fmt_s2.remove(fmt_s1[i])\n",
    "    # print(\"Passed For Loop\") # Debugging Only\n",
    "    return True"
   ]
  },
  {
   "cell_type": "code",
   "execution_count": 15,
   "metadata": {
    "execution": {
     "iopub.execute_input": "2023-08-03T01:41:37.294528Z",
     "iopub.status.busy": "2023-08-03T01:41:37.292444Z",
     "iopub.status.idle": "2023-08-03T01:41:37.303630Z",
     "shell.execute_reply": "2023-08-03T01:41:37.302394Z",
     "shell.execute_reply.started": "2023-08-03T01:41:37.294457Z"
    }
   },
   "outputs": [
    {
     "data": {
      "text/plain": [
       "True"
      ]
     },
     "execution_count": 15,
     "metadata": {},
     "output_type": "execute_result"
    }
   ],
   "source": [
    "anagram(\"dog\", \"god\")"
   ]
  },
  {
   "cell_type": "code",
   "execution_count": 16,
   "metadata": {
    "execution": {
     "iopub.execute_input": "2023-08-03T01:41:38.510883Z",
     "iopub.status.busy": "2023-08-03T01:41:38.509939Z",
     "iopub.status.idle": "2023-08-03T01:41:38.517503Z",
     "shell.execute_reply": "2023-08-03T01:41:38.515896Z",
     "shell.execute_reply.started": "2023-08-03T01:41:38.510854Z"
    }
   },
   "outputs": [
    {
     "data": {
      "text/plain": [
       "True"
      ]
     },
     "execution_count": 16,
     "metadata": {},
     "output_type": "execute_result"
    }
   ],
   "source": [
    "anagram(\"clint eastwood\", \"old west action\")"
   ]
  },
  {
   "cell_type": "code",
   "execution_count": 17,
   "metadata": {
    "execution": {
     "iopub.execute_input": "2023-08-03T01:41:39.938993Z",
     "iopub.status.busy": "2023-08-03T01:41:39.938179Z",
     "iopub.status.idle": "2023-08-03T01:41:39.944571Z",
     "shell.execute_reply": "2023-08-03T01:41:39.943635Z",
     "shell.execute_reply.started": "2023-08-03T01:41:39.938964Z"
    }
   },
   "outputs": [
    {
     "data": {
      "text/plain": [
       "False"
      ]
     },
     "execution_count": 17,
     "metadata": {},
     "output_type": "execute_result"
    }
   ],
   "source": [
    "anagram(\"aa\", \"bb\")"
   ]
  },
  {
   "cell_type": "markdown",
   "metadata": {},
   "source": [
    "# Test Your Solution\n",
    "Run the cell below to test your solution"
   ]
  },
  {
   "cell_type": "code",
   "execution_count": 18,
   "metadata": {
    "execution": {
     "iopub.execute_input": "2023-08-03T01:41:43.995624Z",
     "iopub.status.busy": "2023-08-03T01:41:43.994842Z",
     "iopub.status.idle": "2023-08-03T01:41:44.004816Z",
     "shell.execute_reply": "2023-08-03T01:41:44.002681Z",
     "shell.execute_reply.started": "2023-08-03T01:41:43.995592Z"
    }
   },
   "outputs": [
    {
     "name": "stdout",
     "output_type": "stream",
     "text": [
      "ALL TEST CASES PASSED\n"
     ]
    }
   ],
   "source": [
    "\"\"\"\n",
    "RUN THIS CELL TO TEST YOUR SOLUTION\n",
    "\"\"\"\n",
    "from nose.tools import assert_equal\n",
    "\n",
    "\n",
    "class AnagramTest(object):\n",
    "    def test(self, sol):\n",
    "        assert_equal(sol(\"go go go\", \"gggooo\"), True)\n",
    "        assert_equal(sol(\"abc\", \"cba\"), True)\n",
    "        assert_equal(sol(\"hi man\", \"hi     man\"), True)\n",
    "        assert_equal(sol(\"aabbcc\", \"aabbc\"), False)\n",
    "        assert_equal(sol(\"123\", \"1 2\"), False)\n",
    "        print(\"ALL TEST CASES PASSED\")\n",
    "\n",
    "\n",
    "# Run Tests\n",
    "t = AnagramTest()\n",
    "t.test(anagram)"
   ]
  },
  {
   "cell_type": "code",
   "execution_count": 19,
   "metadata": {
    "execution": {
     "iopub.execute_input": "2023-08-03T01:41:45.752386Z",
     "iopub.status.busy": "2023-08-03T01:41:45.751438Z",
     "iopub.status.idle": "2023-08-03T01:41:45.773504Z",
     "shell.execute_reply": "2023-08-03T01:41:45.772016Z",
     "shell.execute_reply.started": "2023-08-03T01:41:45.752350Z"
    }
   },
   "outputs": [
    {
     "ename": "NameError",
     "evalue": "name 'anagram2' is not defined",
     "output_type": "error",
     "traceback": [
      "\u001b[0;31m---------------------------------------------------------------------------\u001b[0m",
      "\u001b[0;31mNameError\u001b[0m                                 Traceback (most recent call last)",
      "Cell \u001b[0;32mIn[19], line 1\u001b[0m\n\u001b[0;32m----> 1\u001b[0m t\u001b[38;5;241m.\u001b[39mtest(\u001b[43managram2\u001b[49m)\n",
      "\u001b[0;31mNameError\u001b[0m: name 'anagram2' is not defined"
     ]
    }
   ],
   "source": [
    "t.test(anagram2)"
   ]
  },
  {
   "cell_type": "markdown",
   "metadata": {},
   "source": [
    "# Good Job!"
   ]
  }
 ],
 "metadata": {
  "kernelspec": {
   "display_name": "Python 3 (ipykernel)",
   "language": "python",
   "name": "python3"
  },
  "language_info": {
   "codemirror_mode": {
    "name": "ipython",
    "version": 3
   },
   "file_extension": ".py",
   "mimetype": "text/x-python",
   "name": "python",
   "nbconvert_exporter": "python",
   "pygments_lexer": "ipython3",
   "version": "3.11.4"
  }
 },
 "nbformat": 4,
 "nbformat_minor": 4
}
